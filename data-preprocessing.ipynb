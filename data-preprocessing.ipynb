{
 "cells": [
  {
   "cell_type": "code",
   "execution_count": 3,
   "metadata": {
    "_cell_guid": "b1076dfc-b9ad-4769-8c92-a6c4dae69d19",
    "_uuid": "8f2839f25d086af736a60e9eeb907d3b93b6e0e5",
    "execution": {
     "iopub.execute_input": "2022-02-28T17:55:11.850972Z",
     "iopub.status.busy": "2022-02-28T17:55:11.850347Z",
     "iopub.status.idle": "2022-02-28T17:55:11.862166Z",
     "shell.execute_reply": "2022-02-28T17:55:11.861370Z",
     "shell.execute_reply.started": "2022-02-28T17:55:11.850921Z"
    }
   },
   "outputs": [],
   "source": [
    "# This Python 3 environment comes with many helpful analytics libraries installed\n",
    "# It is defined by the kaggle/python Docker image: https://github.com/kaggle/docker-python\n",
    "# For example, here's several helpful packages to load\n",
    "\n",
    "import numpy as np # linear algebra\n",
    "import pandas as pd # data processing, CSV file I/O (e.g. pd.read_csv)\n",
    "\n",
    "# Input data files are available in the read-only \"../input/\" directory\n",
    "# For example, running this (by clicking run or pressing Shift+Enter) will list all files under the input directory\n",
    "\n",
    "import os\n",
    "for dirname, _, filenames in os.walk('/kaggle/input'):\n",
    "    for filename in filenames:\n",
    "        print(os.path.join(dirname, filename))\n",
    "\n",
    "# You can write up to 20GB to the current directory (/kaggle/working/) that gets preserved as output when you create a version using \"Save & Run All\" \n",
    "# You can also write temporary files to /kaggle/temp/, but they won't be saved outside of the current session"
   ]
  },
  {
   "cell_type": "code",
   "execution_count": 4,
   "metadata": {
    "execution": {
     "iopub.execute_input": "2022-02-28T17:55:11.864959Z",
     "iopub.status.busy": "2022-02-28T17:55:11.864096Z",
     "iopub.status.idle": "2022-02-28T17:55:11.869216Z",
     "shell.execute_reply": "2022-02-28T17:55:11.868369Z",
     "shell.execute_reply.started": "2022-02-28T17:55:11.864909Z"
    }
   },
   "outputs": [
    {
     "ename": "ModuleNotFoundError",
     "evalue": "No module named 'cuml'",
     "output_type": "error",
     "traceback": [
      "\u001b[1;31m---------------------------------------------------------------------------\u001b[0m",
      "\u001b[1;31mModuleNotFoundError\u001b[0m                       Traceback (most recent call last)",
      "\u001b[1;32m<ipython-input-4-69af22c76cbf>\u001b[0m in \u001b[0;36m<module>\u001b[1;34m\u001b[0m\n\u001b[1;32m----> 1\u001b[1;33m \u001b[1;32mimport\u001b[0m \u001b[0mcuml\u001b[0m\u001b[1;33m\u001b[0m\u001b[1;33m\u001b[0m\u001b[0m\n\u001b[0m\u001b[0;32m      2\u001b[0m \u001b[1;32mimport\u001b[0m \u001b[0mcupy\u001b[0m \u001b[1;32mas\u001b[0m \u001b[0mcp\u001b[0m\u001b[1;33m\u001b[0m\u001b[1;33m\u001b[0m\u001b[0m\n\u001b[0;32m      3\u001b[0m \u001b[1;32mimport\u001b[0m \u001b[0mcudf\u001b[0m \u001b[1;32mas\u001b[0m \u001b[0mcd\u001b[0m\u001b[1;33m\u001b[0m\u001b[1;33m\u001b[0m\u001b[0m\n\u001b[0;32m      4\u001b[0m \u001b[1;32mimport\u001b[0m \u001b[0mseaborn\u001b[0m \u001b[1;32mas\u001b[0m \u001b[0msns\u001b[0m\u001b[1;33m\u001b[0m\u001b[1;33m\u001b[0m\u001b[0m\n",
      "\u001b[1;31mModuleNotFoundError\u001b[0m: No module named 'cuml'"
     ]
    }
   ],
   "source": [
    "import cuml \n",
    "import cupy as cp\n",
    "import cudf as cd\n",
    "import seaborn as sns"
   ]
  },
  {
   "cell_type": "code",
   "execution_count": 5,
   "metadata": {
    "execution": {
     "iopub.execute_input": "2022-02-28T17:55:11.870816Z",
     "iopub.status.busy": "2022-02-28T17:55:11.870544Z",
     "iopub.status.idle": "2022-02-28T17:55:15.441895Z",
     "shell.execute_reply": "2022-02-28T17:55:15.441113Z",
     "shell.execute_reply.started": "2022-02-28T17:55:11.870781Z"
    }
   },
   "outputs": [],
   "source": [
    "df = cd.read_csv(\"../input/house-price/train.csv\")"
   ]
  },
  {
   "cell_type": "code",
   "execution_count": 6,
   "metadata": {
    "execution": {
     "iopub.execute_input": "2022-02-28T17:55:15.443640Z",
     "iopub.status.busy": "2022-02-28T17:55:15.443386Z",
     "iopub.status.idle": "2022-02-28T17:55:15.857785Z",
     "shell.execute_reply": "2022-02-28T17:55:15.856636Z",
     "shell.execute_reply.started": "2022-02-28T17:55:15.443603Z"
    }
   },
   "outputs": [],
   "source": [
    "df.head(10)"
   ]
  },
  {
   "cell_type": "code",
   "execution_count": 7,
   "metadata": {
    "execution": {
     "iopub.execute_input": "2022-02-28T17:55:15.860793Z",
     "iopub.status.busy": "2022-02-28T17:55:15.860502Z",
     "iopub.status.idle": "2022-02-28T17:55:15.922046Z",
     "shell.execute_reply": "2022-02-28T17:55:15.921186Z",
     "shell.execute_reply.started": "2022-02-28T17:55:15.860755Z"
    }
   },
   "outputs": [],
   "source": [
    "df.info()"
   ]
  },
  {
   "cell_type": "code",
   "execution_count": 8,
   "metadata": {
    "execution": {
     "iopub.execute_input": "2022-02-28T17:55:15.924088Z",
     "iopub.status.busy": "2022-02-28T17:55:15.923776Z",
     "iopub.status.idle": "2022-02-28T17:55:15.930532Z",
     "shell.execute_reply": "2022-02-28T17:55:15.929509Z",
     "shell.execute_reply.started": "2022-02-28T17:55:15.924048Z"
    }
   },
   "outputs": [],
   "source": [
    "df.shape"
   ]
  },
  {
   "cell_type": "code",
   "execution_count": 9,
   "metadata": {
    "execution": {
     "iopub.execute_input": "2022-02-28T17:55:15.932455Z",
     "iopub.status.busy": "2022-02-28T17:55:15.932178Z",
     "iopub.status.idle": "2022-02-28T17:55:15.982255Z",
     "shell.execute_reply": "2022-02-28T17:55:15.981585Z",
     "shell.execute_reply.started": "2022-02-28T17:55:15.932421Z"
    }
   },
   "outputs": [],
   "source": [
    "null_column = []\n",
    "for col in df.columns:\n",
    "    if df[col].isnull().sum()>=1:\n",
    "        null_column.append(col)"
   ]
  },
  {
   "cell_type": "code",
   "execution_count": 10,
   "metadata": {
    "execution": {
     "iopub.execute_input": "2022-02-28T17:55:15.983735Z",
     "iopub.status.busy": "2022-02-28T17:55:15.983501Z",
     "iopub.status.idle": "2022-02-28T17:55:16.002725Z",
     "shell.execute_reply": "2022-02-28T17:55:16.001978Z",
     "shell.execute_reply.started": "2022-02-28T17:55:15.983703Z"
    }
   },
   "outputs": [],
   "source": [
    "df_train = df.drop(null_column,axis = 1)"
   ]
  },
  {
   "cell_type": "code",
   "execution_count": 11,
   "metadata": {
    "execution": {
     "iopub.execute_input": "2022-02-28T17:55:16.005536Z",
     "iopub.status.busy": "2022-02-28T17:55:16.005352Z",
     "iopub.status.idle": "2022-02-28T17:55:16.165323Z",
     "shell.execute_reply": "2022-02-28T17:55:16.164570Z",
     "shell.execute_reply.started": "2022-02-28T17:55:16.005513Z"
    }
   },
   "outputs": [],
   "source": [
    "df_train.head(4)"
   ]
  },
  {
   "cell_type": "code",
   "execution_count": 12,
   "metadata": {
    "execution": {
     "iopub.execute_input": "2022-02-28T17:55:16.167089Z",
     "iopub.status.busy": "2022-02-28T17:55:16.166739Z",
     "iopub.status.idle": "2022-02-28T17:55:16.207064Z",
     "shell.execute_reply": "2022-02-28T17:55:16.206237Z",
     "shell.execute_reply.started": "2022-02-28T17:55:16.167049Z"
    }
   },
   "outputs": [],
   "source": [
    "df_train.info()"
   ]
  },
  {
   "cell_type": "code",
   "execution_count": 13,
   "metadata": {
    "execution": {
     "iopub.execute_input": "2022-02-28T17:55:16.208495Z",
     "iopub.status.busy": "2022-02-28T17:55:16.208259Z",
     "iopub.status.idle": "2022-02-28T17:55:16.233274Z",
     "shell.execute_reply": "2022-02-28T17:55:16.232567Z",
     "shell.execute_reply.started": "2022-02-28T17:55:16.208461Z"
    }
   },
   "outputs": [],
   "source": [
    "final_df = df_train[['OverallQual', 'GrLivArea', 'YearBuilt', 'YearRemodAdd', 'TotalBsmtSF', '1stFlrSF', 'FullBath']]\n",
    "final_df.head()"
   ]
  },
  {
   "cell_type": "code",
   "execution_count": 14,
   "metadata": {
    "execution": {
     "iopub.execute_input": "2022-02-28T17:55:16.234580Z",
     "iopub.status.busy": "2022-02-28T17:55:16.234356Z",
     "iopub.status.idle": "2022-02-28T17:55:16.238739Z",
     "shell.execute_reply": "2022-02-28T17:55:16.237760Z",
     "shell.execute_reply.started": "2022-02-28T17:55:16.234548Z"
    }
   },
   "outputs": [],
   "source": [
    "X = final_df\n",
    "Y = df_train['SalePrice']"
   ]
  },
  {
   "cell_type": "code",
   "execution_count": 15,
   "metadata": {
    "execution": {
     "iopub.execute_input": "2022-02-28T17:55:16.240550Z",
     "iopub.status.busy": "2022-02-28T17:55:16.240086Z",
     "iopub.status.idle": "2022-02-28T17:55:16.300954Z",
     "shell.execute_reply": "2022-02-28T17:55:16.300326Z",
     "shell.execute_reply.started": "2022-02-28T17:55:16.240517Z"
    }
   },
   "outputs": [],
   "source": [
    "X"
   ]
  },
  {
   "cell_type": "code",
   "execution_count": 16,
   "metadata": {
    "execution": {
     "iopub.execute_input": "2022-02-28T17:55:16.303903Z",
     "iopub.status.busy": "2022-02-28T17:55:16.303733Z",
     "iopub.status.idle": "2022-02-28T17:55:24.287839Z",
     "shell.execute_reply": "2022-02-28T17:55:24.286992Z",
     "shell.execute_reply.started": "2022-02-28T17:55:16.303881Z"
    }
   },
   "outputs": [],
   "source": [
    "from cuml.preprocessing import StandardScaler\n",
    "scaler = StandardScaler()\n",
    "X_scaled = scaler.fit_transform(X)"
   ]
  },
  {
   "cell_type": "code",
   "execution_count": 17,
   "metadata": {
    "execution": {
     "iopub.execute_input": "2022-02-28T17:55:24.289449Z",
     "iopub.status.busy": "2022-02-28T17:55:24.289167Z",
     "iopub.status.idle": "2022-02-28T17:55:24.307218Z",
     "shell.execute_reply": "2022-02-28T17:55:24.306511Z",
     "shell.execute_reply.started": "2022-02-28T17:55:24.289403Z"
    }
   },
   "outputs": [],
   "source": [
    "from sklearn.model_selection import train_test_split\n",
    "X_train,X_test,Y_train,Y_test = train_test_split(X_scaled.as_matrix(),Y,test_size = 0.25,random_state = 42)"
   ]
  },
  {
   "cell_type": "code",
   "execution_count": 18,
   "metadata": {
    "execution": {
     "iopub.execute_input": "2022-02-28T17:55:24.308661Z",
     "iopub.status.busy": "2022-02-28T17:55:24.308413Z",
     "iopub.status.idle": "2022-02-28T17:55:24.313725Z",
     "shell.execute_reply": "2022-02-28T17:55:24.312906Z",
     "shell.execute_reply.started": "2022-02-28T17:55:24.308627Z"
    }
   },
   "outputs": [],
   "source": [
    "algorithm = ['svd', 'eig', 'qr', 'svd-qr', 'svd-jacobi']"
   ]
  },
  {
   "cell_type": "code",
   "execution_count": 19,
   "metadata": {
    "execution": {
     "iopub.execute_input": "2022-02-28T17:55:24.315401Z",
     "iopub.status.busy": "2022-02-28T17:55:24.315033Z",
     "iopub.status.idle": "2022-02-28T17:55:28.104348Z",
     "shell.execute_reply": "2022-02-28T17:55:28.103683Z",
     "shell.execute_reply.started": "2022-02-28T17:55:24.315365Z"
    }
   },
   "outputs": [],
   "source": [
    "from cuml import LinearRegression\n",
    "err = 9999999999\n",
    "final_lr = None\n",
    "for alg in algorithm:\n",
    "    print(\"Algorithm:\")\n",
    "    print(alg)\n",
    "    lr = LinearRegression(fit_intercept = True, normalize = False, algorithm = alg)\n",
    "    reg = lr.fit(X_train,Y_train)\n",
    "    preds = lr.predict(X_test)\n",
    "    Y_test=Y_test.astype(cp.float64)\n",
    "    print(\"MSE:\")\n",
    "    print(cuml.metrics.regression.mean_squared_error(Y_test,preds))\n",
    "    if err>=cuml.metrics.regression.mean_squared_error(Y_test,preds):\n",
    "        err = cuml.metrics.regression.mean_squared_error(Y_test,preds)\n",
    "        final_lr = lr\n",
    "    print(\"R2 Score:\")\n",
    "    print(cuml.metrics.regression.r2_score(Y_test,preds))\n",
    "    print(\"MAE:\")\n",
    "    print(cuml.metrics.regression.mean_absolute_error(Y_test,preds))"
   ]
  },
  {
   "cell_type": "code",
   "execution_count": 20,
   "metadata": {
    "execution": {
     "iopub.execute_input": "2022-02-28T17:55:28.105849Z",
     "iopub.status.busy": "2022-02-28T17:55:28.105532Z",
     "iopub.status.idle": "2022-02-28T17:55:28.166728Z",
     "shell.execute_reply": "2022-02-28T17:55:28.166083Z",
     "shell.execute_reply.started": "2022-02-28T17:55:28.105808Z"
    }
   },
   "outputs": [],
   "source": [
    "test = cd.read_csv('../input/house-price/test.csv')\n",
    "test.head()\n",
    "test_id = test[['Id']]"
   ]
  },
  {
   "cell_type": "code",
   "execution_count": 21,
   "metadata": {
    "execution": {
     "iopub.execute_input": "2022-02-28T17:55:28.169625Z",
     "iopub.status.busy": "2022-02-28T17:55:28.169432Z",
     "iopub.status.idle": "2022-02-28T17:55:28.197963Z",
     "shell.execute_reply": "2022-02-28T17:55:28.197214Z",
     "shell.execute_reply.started": "2022-02-28T17:55:28.169601Z"
    }
   },
   "outputs": [],
   "source": [
    "test = test[['OverallQual', 'GrLivArea', 'YearBuilt', 'YearRemodAdd', 'TotalBsmtSF', '1stFlrSF', 'FullBath']]\n",
    "test=test.fillna(0)\n",
    "test.head()"
   ]
  },
  {
   "cell_type": "code",
   "execution_count": 22,
   "metadata": {
    "execution": {
     "iopub.execute_input": "2022-02-28T17:55:28.199310Z",
     "iopub.status.busy": "2022-02-28T17:55:28.199064Z",
     "iopub.status.idle": "2022-02-28T17:55:28.208990Z",
     "shell.execute_reply": "2022-02-28T17:55:28.208356Z",
     "shell.execute_reply.started": "2022-02-28T17:55:28.199276Z"
    }
   },
   "outputs": [],
   "source": [
    "pred = final_lr.predict(test)"
   ]
  },
  {
   "cell_type": "code",
   "execution_count": 23,
   "metadata": {
    "execution": {
     "iopub.execute_input": "2022-02-28T17:55:28.210749Z",
     "iopub.status.busy": "2022-02-28T17:55:28.210246Z",
     "iopub.status.idle": "2022-02-28T17:55:28.215716Z",
     "shell.execute_reply": "2022-02-28T17:55:28.215050Z",
     "shell.execute_reply.started": "2022-02-28T17:55:28.210712Z"
    }
   },
   "outputs": [],
   "source": [
    "type(test_id)\n",
    "test_id = test_id.to_pandas()"
   ]
  },
  {
   "cell_type": "code",
   "execution_count": 24,
   "metadata": {
    "execution": {
     "iopub.execute_input": "2022-02-28T17:55:28.217391Z",
     "iopub.status.busy": "2022-02-28T17:55:28.217089Z",
     "iopub.status.idle": "2022-02-28T17:55:28.224805Z",
     "shell.execute_reply": "2022-02-28T17:55:28.223988Z",
     "shell.execute_reply.started": "2022-02-28T17:55:28.217350Z"
    }
   },
   "outputs": [],
   "source": [
    "type(pred)"
   ]
  },
  {
   "cell_type": "code",
   "execution_count": 25,
   "metadata": {
    "execution": {
     "iopub.execute_input": "2022-02-28T17:55:28.226893Z",
     "iopub.status.busy": "2022-02-28T17:55:28.226085Z",
     "iopub.status.idle": "2022-02-28T17:55:28.231857Z",
     "shell.execute_reply": "2022-02-28T17:55:28.231054Z",
     "shell.execute_reply.started": "2022-02-28T17:55:28.226840Z"
    }
   },
   "outputs": [],
   "source": [
    "import pandas as pd\n",
    "output = pd.DataFrame()\n"
   ]
  },
  {
   "cell_type": "code",
   "execution_count": 26,
   "metadata": {
    "execution": {
     "iopub.execute_input": "2022-02-28T17:55:28.234774Z",
     "iopub.status.busy": "2022-02-28T17:55:28.234050Z",
     "iopub.status.idle": "2022-02-28T17:55:28.243644Z",
     "shell.execute_reply": "2022-02-28T17:55:28.242879Z",
     "shell.execute_reply.started": "2022-02-28T17:55:28.234735Z"
    }
   },
   "outputs": [],
   "source": [
    "output[\"Id\"] = test_id"
   ]
  },
  {
   "cell_type": "code",
   "execution_count": 27,
   "metadata": {
    "execution": {
     "iopub.execute_input": "2022-02-28T17:55:28.245536Z",
     "iopub.status.busy": "2022-02-28T17:55:28.244928Z",
     "iopub.status.idle": "2022-02-28T17:55:28.250550Z",
     "shell.execute_reply": "2022-02-28T17:55:28.249773Z",
     "shell.execute_reply.started": "2022-02-28T17:55:28.245502Z"
    }
   },
   "outputs": [],
   "source": [
    "output[\"SalePrice\"] = pd.DataFrame(pred)"
   ]
  },
  {
   "cell_type": "code",
   "execution_count": 29,
   "metadata": {
    "execution": {
     "iopub.execute_input": "2022-02-28T17:55:43.531300Z",
     "iopub.status.busy": "2022-02-28T17:55:43.530504Z",
     "iopub.status.idle": "2022-02-28T17:55:43.542366Z",
     "shell.execute_reply": "2022-02-28T17:55:43.541618Z",
     "shell.execute_reply.started": "2022-02-28T17:55:43.531247Z"
    }
   },
   "outputs": [],
   "source": [
    "output.to_csv('submission.csv', index=False)"
   ]
  }
 ],
 "metadata": {
  "kernelspec": {
   "display_name": "Python 3",
   "language": "python",
   "name": "python3"
  },
  "language_info": {
   "codemirror_mode": {
    "name": "ipython",
    "version": 3
   },
   "file_extension": ".py",
   "mimetype": "text/x-python",
   "name": "python",
   "nbconvert_exporter": "python",
   "pygments_lexer": "ipython3",
   "version": "3.8.8"
  }
 },
 "nbformat": 4,
 "nbformat_minor": 4
}
